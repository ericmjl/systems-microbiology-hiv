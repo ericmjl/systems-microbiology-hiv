{
 "cells": [
  {
   "cell_type": "code",
   "execution_count": 6,
   "metadata": {
    "collapsed": false
   },
   "outputs": [
    {
     "name": "stdout",
     "output_type": "stream",
     "text": [
      "The autoreload extension is already loaded. To reload it, use:\n",
      "  %reload_ext autoreload\n"
     ]
    }
   ],
   "source": [
    "import custom_funcs as cf\n",
    "import matplotlib.pyplot as plt\n",
    "import numpy as np\n",
    "import pandas as pd\n",
    "import scipy as sp\n",
    "import sklearn.cross_validation as cv\n",
    "\n",
    "from Bio import SeqIO\n",
    "from Bio.Align import MultipleSeqAlignment\n",
    "from itertools import combinations\n",
    "from random import sample\n",
    "from scipy.stats import pearsonr\n",
    "from sklearn.ensemble import RandomForestRegressor, ExtraTreesRegressor, AdaBoostRegressor, GradientBoostingRegressor\n",
    "from sklearn.metrics import mean_squared_error as mse\n",
    "from sklearn.preprocessing import LabelBinarizer\n",
    "\n",
    "%matplotlib inline\n",
    "\n",
    "%load_ext autoreload\n",
    "%autoreload 2"
   ]
  },
  {
   "cell_type": "markdown",
   "metadata": {},
   "source": [
    "# Problem Set on Machine Learning"
   ]
  },
  {
   "cell_type": "markdown",
   "metadata": {
    "nbgrader": {
     "grade": false,
     "locked": false,
     "solution": false
    }
   },
   "source": [
    "## Problem 1\n",
    "\n",
    "Identify an academic literature reference that descirbes the PhenoSense assay. Paste the URL to the PubMed article below, and write a 1-2 sentence summary on what is measured in the assay, and how it relates to drug resistance.\n",
    "\n",
    "Compare and contrast it with the plaque reduction assay as mentioned in the literature - what would be one advantage of the plaque reduction assay that is lacking in PhenoSense, and vice versa?"
   ]
  },
  {
   "cell_type": "markdown",
   "metadata": {
    "nbgrader": {
     "grade": true,
     "grade_id": "phenosense",
     "locked": false,
     "points": 3,
     "solution": true
    }
   },
   "source": [
    "**Answer**\n",
    "\n",
    "The PhenoSense assay is a luciferase-based assay. Greater luminescence indicates weaker resistance.\n",
    "\n",
    "- Plaque reduction assay: Actually measures viral load, where PhenoSense doesn't.\n",
    "- PhenoSense: High throughput, fairly accurate, where PRA is labor-intensive."
   ]
  },
  {
   "cell_type": "markdown",
   "metadata": {},
   "source": [
    "## Problem 2\n",
    "\n",
    "1. Write code below to calculate the correlation between two drugs' resistance profiles. Identify the protease drugs for which the two drugs' resistance values are correlated. \n",
    "1. Speculate as to why they would be correlated."
   ]
  },
  {
   "cell_type": "code",
   "execution_count": 7,
   "metadata": {
    "collapsed": false,
    "nbgrader": {
     "grade": false,
     "grade_id": "load_data",
     "locked": true,
     "solution": false
    }
   },
   "outputs": [
    {
     "data": {
      "text/html": [
       "<div>\n",
       "<table border=\"1\" class=\"dataframe\">\n",
       "  <thead>\n",
       "    <tr style=\"text-align: right;\">\n",
       "      <th></th>\n",
       "      <th>FPV</th>\n",
       "      <th>ATV</th>\n",
       "      <th>IDV</th>\n",
       "      <th>LPV</th>\n",
       "      <th>NFV</th>\n",
       "      <th>SQV</th>\n",
       "      <th>TPV</th>\n",
       "      <th>DRV</th>\n",
       "      <th>P1</th>\n",
       "      <th>P2</th>\n",
       "      <th>...</th>\n",
       "      <th>P90</th>\n",
       "      <th>P91</th>\n",
       "      <th>P92</th>\n",
       "      <th>P93</th>\n",
       "      <th>P94</th>\n",
       "      <th>P95</th>\n",
       "      <th>P96</th>\n",
       "      <th>P97</th>\n",
       "      <th>P98</th>\n",
       "      <th>P99</th>\n",
       "    </tr>\n",
       "    <tr>\n",
       "      <th>SeqID</th>\n",
       "      <th></th>\n",
       "      <th></th>\n",
       "      <th></th>\n",
       "      <th></th>\n",
       "      <th></th>\n",
       "      <th></th>\n",
       "      <th></th>\n",
       "      <th></th>\n",
       "      <th></th>\n",
       "      <th></th>\n",
       "      <th></th>\n",
       "      <th></th>\n",
       "      <th></th>\n",
       "      <th></th>\n",
       "      <th></th>\n",
       "      <th></th>\n",
       "      <th></th>\n",
       "      <th></th>\n",
       "      <th></th>\n",
       "      <th></th>\n",
       "      <th></th>\n",
       "    </tr>\n",
       "  </thead>\n",
       "  <tbody>\n",
       "    <tr>\n",
       "      <th>2996</th>\n",
       "      <td>0.397940</td>\n",
       "      <td>NaN</td>\n",
       "      <td>1.212188</td>\n",
       "      <td>NaN</td>\n",
       "      <td>1.586587</td>\n",
       "      <td>1.206826</td>\n",
       "      <td>NaN</td>\n",
       "      <td>NaN</td>\n",
       "      <td>P</td>\n",
       "      <td>Q</td>\n",
       "      <td>...</td>\n",
       "      <td>M</td>\n",
       "      <td>T</td>\n",
       "      <td>Q</td>\n",
       "      <td>L</td>\n",
       "      <td>G</td>\n",
       "      <td>C</td>\n",
       "      <td>T</td>\n",
       "      <td>L</td>\n",
       "      <td>N</td>\n",
       "      <td>F</td>\n",
       "    </tr>\n",
       "    <tr>\n",
       "      <th>4387</th>\n",
       "      <td>-0.154902</td>\n",
       "      <td>NaN</td>\n",
       "      <td>-0.096910</td>\n",
       "      <td>NaN</td>\n",
       "      <td>-0.096910</td>\n",
       "      <td>0.041393</td>\n",
       "      <td>NaN</td>\n",
       "      <td>NaN</td>\n",
       "      <td>P</td>\n",
       "      <td>Q</td>\n",
       "      <td>...</td>\n",
       "      <td>L</td>\n",
       "      <td>T</td>\n",
       "      <td>Q</td>\n",
       "      <td>I</td>\n",
       "      <td>G</td>\n",
       "      <td>C</td>\n",
       "      <td>T</td>\n",
       "      <td>L</td>\n",
       "      <td>N</td>\n",
       "      <td>F</td>\n",
       "    </tr>\n",
       "    <tr>\n",
       "      <th>4432</th>\n",
       "      <td>0.176091</td>\n",
       "      <td>NaN</td>\n",
       "      <td>0.000000</td>\n",
       "      <td>NaN</td>\n",
       "      <td>0.342423</td>\n",
       "      <td>0.041393</td>\n",
       "      <td>NaN</td>\n",
       "      <td>NaN</td>\n",
       "      <td>P</td>\n",
       "      <td>Q</td>\n",
       "      <td>...</td>\n",
       "      <td>L</td>\n",
       "      <td>T</td>\n",
       "      <td>Q</td>\n",
       "      <td>I</td>\n",
       "      <td>G</td>\n",
       "      <td>C</td>\n",
       "      <td>T</td>\n",
       "      <td>L</td>\n",
       "      <td>N</td>\n",
       "      <td>F</td>\n",
       "    </tr>\n",
       "    <tr>\n",
       "      <th>4482</th>\n",
       "      <td>0.591065</td>\n",
       "      <td>NaN</td>\n",
       "      <td>1.305351</td>\n",
       "      <td>NaN</td>\n",
       "      <td>1.334454</td>\n",
       "      <td>0.963788</td>\n",
       "      <td>NaN</td>\n",
       "      <td>NaN</td>\n",
       "      <td>P</td>\n",
       "      <td>Q</td>\n",
       "      <td>...</td>\n",
       "      <td>M</td>\n",
       "      <td>T</td>\n",
       "      <td>Q</td>\n",
       "      <td>L</td>\n",
       "      <td>G</td>\n",
       "      <td>C</td>\n",
       "      <td>T</td>\n",
       "      <td>L</td>\n",
       "      <td>N</td>\n",
       "      <td>F</td>\n",
       "    </tr>\n",
       "    <tr>\n",
       "      <th>4486</th>\n",
       "      <td>0.977724</td>\n",
       "      <td>1.30103</td>\n",
       "      <td>0.913814</td>\n",
       "      <td>1.041393</td>\n",
       "      <td>1.857332</td>\n",
       "      <td>1.662758</td>\n",
       "      <td>NaN</td>\n",
       "      <td>NaN</td>\n",
       "      <td>P</td>\n",
       "      <td>Q</td>\n",
       "      <td>...</td>\n",
       "      <td>L</td>\n",
       "      <td>T</td>\n",
       "      <td>Q</td>\n",
       "      <td>I</td>\n",
       "      <td>G</td>\n",
       "      <td>C</td>\n",
       "      <td>T</td>\n",
       "      <td>L</td>\n",
       "      <td>N</td>\n",
       "      <td>F</td>\n",
       "    </tr>\n",
       "  </tbody>\n",
       "</table>\n",
       "<p>5 rows × 107 columns</p>\n",
       "</div>"
      ],
      "text/plain": [
       "            FPV      ATV       IDV       LPV       NFV       SQV  TPV  DRV P1  \\\n",
       "SeqID                                                                           \n",
       "2996   0.397940      NaN  1.212188       NaN  1.586587  1.206826  NaN  NaN  P   \n",
       "4387  -0.154902      NaN -0.096910       NaN -0.096910  0.041393  NaN  NaN  P   \n",
       "4432   0.176091      NaN  0.000000       NaN  0.342423  0.041393  NaN  NaN  P   \n",
       "4482   0.591065      NaN  1.305351       NaN  1.334454  0.963788  NaN  NaN  P   \n",
       "4486   0.977724  1.30103  0.913814  1.041393  1.857332  1.662758  NaN  NaN  P   \n",
       "\n",
       "      P2 ... P90 P91 P92 P93 P94 P95 P96 P97 P98 P99  \n",
       "SeqID    ...                                          \n",
       "2996   Q ...   M   T   Q   L   G   C   T   L   N   F  \n",
       "4387   Q ...   L   T   Q   I   G   C   T   L   N   F  \n",
       "4432   Q ...   L   T   Q   I   G   C   T   L   N   F  \n",
       "4482   Q ...   M   T   Q   L   G   C   T   L   N   F  \n",
       "4486   Q ...   L   T   Q   I   G   C   T   L   N   F  \n",
       "\n",
       "[5 rows x 107 columns]"
      ]
     },
     "execution_count": 7,
     "metadata": {},
     "output_type": "execute_result"
    }
   ],
   "source": [
    "# This cell loads the data and cleans it for you, and log10 transforms the drug resistance values.\n",
    "# Remember to run this cell if you want to have the data loaded into memory.\n",
    "DATA_HANDLE = 'drug_data/hiv-protease-data.csv'  # specify the relative path to the protease drug resistance data\n",
    "N_DATA = 8  # specify the number of columns in the CSV file that are drug resistance measurements.\n",
    "CONSENSUS = 'sequences/hiv-protease-consensus.fasta'  # specify the relative path to the HIV protease consensus sequence\n",
    "data, drug_cols, feat_cols = cf.read_data(DATA_HANDLE, N_DATA)\n",
    "consensus_map = cf.read_consensus(CONSENSUS)\n",
    "data = cf.clean_data(data, feat_cols, consensus_map)\n",
    "for name in drug_cols:\n",
    "    data[name] = data[name].apply(np.log10)\n",
    "data.head()"
   ]
  },
  {
   "cell_type": "code",
   "execution_count": 8,
   "metadata": {
    "collapsed": false,
    "nbgrader": {
     "grade": false,
     "grade_id": "drug_correlation_score",
     "locked": false,
     "solution": true
    }
   },
   "outputs": [],
   "source": [
    "\"\"\"\n",
    "Complete the function below to compute the correlation score.\n",
    "\n",
    "Use the scipy.stats.pearsonr(x, y) function to find the correlation score between two arrays of things. \n",
    "You do not need to type the whole name, as I have imported the pearsonr name for you, so you only have to do:\n",
    "\n",
    "    pearsonr(x, y)\n",
    "\n",
    "Procedure:\n",
    "\n",
    "1. Select two columns' names to compare.\n",
    "2. Make sure to drop NaN values. the pearsonr function cannot deal with NaN values. \n",
    "   (Refer to the Lecture notebook if you forgot how to do this.)\n",
    "3. Pass the data in to pearsonr().\n",
    "\n",
    "\"\"\"\n",
    "def corr_score(drug1, drug2):\n",
    "    ### BEGIN SOLUTION\n",
    "    # Get the subset of data\n",
    "    subset = data[[drug1, drug2]].dropna()\n",
    "    # Return the pearsonr score.\n",
    "    return pearsonr(subset[drug1], subset[drug2])\n",
    "    ### END SOLUTION"
   ]
  },
  {
   "cell_type": "code",
   "execution_count": 9,
   "metadata": {
    "collapsed": false,
    "nbgrader": {
     "grade": true,
     "grade_id": "drug_correlation_tests",
     "locked": true,
     "points": 1,
     "solution": false
    }
   },
   "outputs": [],
   "source": [
    "assert corr_score('IDV', 'FPV') == (0.79921991532901282, 2.6346448659104859e-306)\n",
    "assert corr_score('ATV', 'FPV') == (0.82009597442033089, 2.5199367322520278e-231)\n",
    "assert corr_score('NFV', 'DRV') == (0.69148264851159791, 4.0640711263961111e-82)\n",
    "assert corr_score('LPV', 'SQV') == (0.76682619729899326, 4.2705737581002648e-234)"
   ]
  },
  {
   "cell_type": "markdown",
   "metadata": {
    "nbgrader": {
     "grade": true,
     "grade_id": "drug_correlation_mechanism",
     "locked": false,
     "points": 3,
     "solution": true
    }
   },
   "source": [
    "**Question:** Which two drugs are most correlated?"
   ]
  },
  {
   "cell_type": "markdown",
   "metadata": {},
   "source": [
    "**Answer:** FPV and DRV"
   ]
  },
  {
   "cell_type": "markdown",
   "metadata": {},
   "source": [
    "**Question:** Why might they be correlated? (Hint: you can look online for what they look like.)"
   ]
  },
  {
   "cell_type": "markdown",
   "metadata": {},
   "source": [
    "**Answer:** They have very similar chemical structures."
   ]
  },
  {
   "cell_type": "markdown",
   "metadata": {
    "collapsed": true
   },
   "source": [
    "## Problem 3\n",
    "\n",
    "Fill in the code below to plot the relationship between number of estimators (X-axis) and the MSE value for each of the estimators. \n",
    "\n",
    "- Try 10, 30, 50, 80, 100, 300, 500 and 800 estimators. \n",
    "- Use the ShuffleSplit iterator with cross-validation.\n",
    "- Use mean of at least 5 cross-validated MSE scores."
   ]
  },
  {
   "cell_type": "code",
   "execution_count": 10,
   "metadata": {
    "collapsed": false
   },
   "outputs": [
    {
     "data": {
      "text/plain": [
       "(1415, 1415)"
      ]
     },
     "execution_count": 10,
     "metadata": {},
     "output_type": "execute_result"
    }
   ],
   "source": [
    "# Fill in the code here to clean the data.\n",
    "def return_cleaned_data(drug_name, data):\n",
    "    # Select the subsets of columns of interest.\n",
    "    # Fade out the drug_name and feat_cols variables\n",
    "    cols_of_interest = []\n",
    "    cols_of_interest.append(drug_name)\n",
    "    cols_of_interest.extend(feat_cols)\n",
    "     \n",
    "    subset = data[cols_of_interest].dropna()  # fade out .dropna()\n",
    "    Y = subset[drug_name]  # fade out drug_name, fade out .apply(np.log10)\n",
    "    X = subset[feat_cols]\n",
    "    # We call on a custom function to binarize the sequence feature matrix.\n",
    "    # You can inspect the code in the custom_funcs.py file.\n",
    "    lb = LabelBinarizer()\n",
    "    lb.fit(list('CHIMSVAGLPTRFYWDNEQK'))\n",
    "\n",
    "    X_binarized = pd.DataFrame()\n",
    "\n",
    "    for col in X.columns:\n",
    "        binarized_cols = lb.transform(X[col])\n",
    "\n",
    "        for i, c in enumerate(lb.classes_):\n",
    "            X_binarized[col + '_' + c] = binarized_cols[:,i]\n",
    "    \n",
    "    return X_binarized, Y\n",
    "\n",
    "X_binarized, Y = return_cleaned_data('FPV', data)\n",
    "len(X_binarized), len(Y)"
   ]
  },
  {
   "cell_type": "code",
   "execution_count": 90,
   "metadata": {
    "collapsed": false
   },
   "outputs": [
    {
     "name": "stdout",
     "output_type": "stream",
     "text": [
      "Random Forest 10\n",
      "Random Forest 30\n",
      "Gradient Boost 10\n",
      "Gradient Boost 30\n",
      "Extra Trees 10\n",
      "Extra Trees 30\n",
      "Ada Boost 10\n",
      "Ada Boost 30\n"
     ]
    }
   ],
   "source": [
    "num_estimators = [10, 30, 50, 80, 100, 300, 500 800]  # fill in the number of estimators to try here.\n",
    "models = {'Random Forest':RandomForestRegressor,\n",
    "          'Ada Boost':AdaBoostRegressor,\n",
    "          'Gradient Boost':GradientBoostingRegressor,\n",
    "          'Extra Trees':ExtraTreesRegressor}  # fill in the other models here\n",
    "\n",
    "# Initialize a dictionary to hold the models' MSE values.\n",
    "mses = dict()\n",
    "for model_name, model in models.items():\n",
    "    mses[model_name] = dict()\n",
    "    for n in num_estimators:\n",
    "        mses[model_name][n] = 0\n",
    "\n",
    "# Iterate over the models, and number of estimators.\n",
    "for model_name, model in models.items():\n",
    "    for n_est in num_estimators:\n",
    "        ### Begin Here\n",
    "        print(model_name, n_est)\n",
    "        # Set up the cross-validation iterator\n",
    "        cv_iterator = cv.ShuffleSplit(len(X_binarized), test_size=0.3, n_iter=5)\n",
    "        \n",
    "        # Initialize the model\n",
    "        m = model(n_estimators=n_est) # fill in the parameters\n",
    "        \n",
    "        # Collect the cross-validation scores. Remember that mse will be negative, and needs to\n",
    "        # be transformed to be positive.\n",
    "        cv_scores = cv.cross_val_score(m, X_binarized, Y, cv=cv_iterator, scoring='mean_squared_error') \n",
    "        ### End Here\n",
    "        \n",
    "        # Store the mean MSEs.\n",
    "        mses[model_name][n_est] = np.mean(-cv_scores)\n",
    "        "
   ]
  },
  {
   "cell_type": "code",
   "execution_count": 91,
   "metadata": {
    "collapsed": false
   },
   "outputs": [
    {
     "data": {
      "text/plain": [
       "<matplotlib.text.Text at 0x7f22b3a96128>"
      ]
     },
     "execution_count": 91,
     "metadata": {},
     "output_type": "execute_result"
    },
    {
     "data": {
      "image/png": "[encoded data removed]",
      "text/plain": [
       "<matplotlib.figure.Figure at 0x7f22b3922f60>"
      ]
     },
     "metadata": {},
     "output_type": "display_data"
    }
   ],
   "source": [
    "# When you're done, run the following cell to make your plot.\n",
    "pd.DataFrame(mses).plot()\n",
    "plt.xlabel('Num Estimators')\n",
    "plt.ylabel('MSE')"
   ]
  },
  {
   "cell_type": "markdown",
   "metadata": {},
   "source": [
    "**Question:** Given the data above, consider this question from the viewpoint of a data scientist/data analyst. What factors do you need to consider when tweaking model parameters?"
   ]
  },
  {
   "cell_type": "markdown",
   "metadata": {},
   "source": [
    "**Answers:**\n",
    "\n",
    "Gains in model accuracy/performance vs. time it takes to run. "
   ]
  },
  {
   "cell_type": "markdown",
   "metadata": {},
   "source": [
    "## Problem 4\n",
    "\n",
    "- Pick the best model from above, and re-train it on the dataset again. Refer to the Lecture notebook for a version of the code that may help here!\n",
    "- Now, use it to make predictions on the global HIV protease dataset.\n",
    "- Plot the global distribution of drug resistance values."
   ]
  },
  {
   "cell_type": "code",
   "execution_count": 83,
   "metadata": {
    "collapsed": true
   },
   "outputs": [],
   "source": [
    "# Load in the data and binarize it.\n",
    "proteases = [s for s in SeqIO.parse('sequences/HIV1-protease.fasta', 'fasta') if len(s) == 99]\n",
    "alignment = MultipleSeqAlignment(proteases)\n",
    "proteases_df = pd.DataFrame(np.array([list(rec) for rec in alignment], str))\n",
    "proteases_df.index = [s.id for s in proteases]\n",
    "proteases_df.columns = [i for i in range(1, 100)]\n",
    "X_global = cf.binarize_seqfeature(proteases_df)"
   ]
  },
  {
   "cell_type": "code",
   "execution_count": 89,
   "metadata": {
    "collapsed": false
   },
   "outputs": [
    {
     "data": {
      "text/plain": [
       "(array([  2.06000000e+02,   3.00620000e+04,   9.95490000e+04,\n",
       "          1.26980000e+04,   5.37700000e+03,   3.80000000e+03,\n",
       "          2.69500000e+03,   1.37600000e+03,   3.76000000e+02,\n",
       "          8.40000000e+01]),\n",
       " array([-1.        , -0.639794  , -0.279588  ,  0.080618  ,  0.440824  ,\n",
       "         0.80103   ,  1.16123599,  1.52144199,  1.88164799,  2.24185399,\n",
       "         2.60205999]),\n",
       " <a list of 10 Patch objects>)"
      ]
     },
     "execution_count": 89,
     "metadata": {},
     "output_type": "execute_result"
    },
    {
     "data": {
      "image/png": "[encoded data removed]",
      "text/plain": [
       "<matplotlib.figure.Figure at 0x7f22bdfce9b0>"
      ]
     },
     "metadata": {},
     "output_type": "display_data"
    }
   ],
   "source": [
    "# Train your model here, with optimized parameters for best MSE minimization.\n",
    "### BEGIN\n",
    "model = RandomForestRegressor()  # put your best model here.\n",
    "model.fit(X_binarized, Y)\n",
    "preds = model.predict(X_global)\n",
    "plt.hist(preds)\n",
    "### END"
   ]
  },
  {
   "cell_type": "markdown",
   "metadata": {},
   "source": [
    "**Question:**\n",
    "\n",
    "How would you evaluate whether the predictions are correct?"
   ]
  },
  {
   "cell_type": "markdown",
   "metadata": {
    "collapsed": true
   },
   "source": [
    "**Answer:**\n",
    "\n",
    "Possible answer: Perform small-scale experiments on a subset of them."
   ]
  },
  {
   "cell_type": "markdown",
   "metadata": {
    "collapsed": true
   },
   "source": [
    "**Question:** In the procedure we have used here, we have done the following:\n",
    "\n",
    "1. Randomly subdivide the whole training data into a subset training and testing set.\n",
    "1. Used cross-validation over multiple random splits to select the best model.\n",
    "1. Re-train best model on the entire dataset.\n",
    "1. Use the trained model to make predictions about new data.\n",
    "\n",
    "Think through the procedure for a moment. What assumptions about the training data have we made in using this procedure to train the ML models?"
   ]
  },
  {
   "cell_type": "markdown",
   "metadata": {},
   "source": [
    "**Answer**:\n",
    "\n",
    "The training data are representative of the new data.\n",
    "\n",
    "More technical answer: The training data comes from the same distribution as the new data."
   ]
  },
  {
   "cell_type": "code",
   "execution_count": null,
   "metadata": {
    "collapsed": true
   },
   "outputs": [],
   "source": []
  }
 ],
 "metadata": {
  "kernelspec": {
   "display_name": "Python 3",
   "language": "python",
   "name": "python3"
  },
  "language_info": {
   "codemirror_mode": {
    "name": "ipython",
    "version": 3
   },
   "file_extension": ".py",
   "mimetype": "text/x-python",
   "name": "python",
   "nbconvert_exporter": "python",
   "pygments_lexer": "ipython3",
   "version": "3.5.0"
  }
 },
 "nbformat": 4,
 "nbformat_minor": 0
}
